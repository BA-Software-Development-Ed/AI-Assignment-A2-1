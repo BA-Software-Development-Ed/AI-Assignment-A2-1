{
 "cells": [
  {
   "cell_type": "markdown",
   "metadata": {},
   "source": [
    "# Assignment A2-1 Tic Tac Toe Min Max Alpha Beta\n",
    "\n",
    "Create an AI agent, which can play the popular game Tic Tac Toe, possibly without losing.  \n",
    "Implement the **[MinMax algorithm](#Minimax-Algorithm)** with **[alpha-beta pruning](#Alpha-Beta-Pruning)**, code it in your preferable language.\n",
    "\n",
    "Submit either the code or the link to it in Peergrade.  \n",
    "If it is correct, your solution gives you _20 credits_.  \n",
    "Providing feedback to your colleagues’ solution brings _5 credits_ more.  \n",
    "\n",
    "#### References\n",
    "* [MinMax Algorithm, GeeksforGeeks](https://www.geeksforgeeks.org/minimax-algorithm-in-game-theory-set-1-introduction/)\n",
    "* [Alpha-Beta Pruning, GeeksforGeeks](https://www.geeksforgeeks.org/minimax-algorithm-in-game-theory-set-4-alpha-beta-pruning/)\n",
    "* [Tic Tac Toe AI with Minimax Algorithm, Youtube](https://www.youtube.com/watch?v=trKjYdBASyQ)\n",
    "* [Algorithms Explained – minimax and alpha-beta pruning, Youtube](https://www.youtube.com/watch?v=l-hh51ncgDI)\n",
    "\n",
    "\n",
    "#### Content\n",
    "_only supports jupyter notebook environment_\n",
    "* [The Therory](#The-Therory)\n",
    "    * [Minimax Algorithm](#Minimax-Algorithm)\n",
    "    * [Node Tree](#Node-Tree)\n",
    "    * [Alpha-Beta Pruning](#Alpha-Beta-Pruning)\n",
    "* **[The Game](#The-Game)**\n",
    "\n",
    "---\n",
    "## The Therory\n",
    "\n",
    "![tic tac toe tree](assets/tic-tac-toe-tree.png)\n",
    "\n",
    "### Minimax Algorithm\n",
    "Minimax is a kind of backtracking algorithm that is used in decision making and game theory to find the optimal move for a player, assuming that your opponent also plays optimally. It is widely used in two player turn-based games such as Tic-Tac-Toe, Backgammon, Mancala, Chess, etc.\n",
    "\n",
    "In Minimax the two players are called **maximizer** and **minimizer**. The maximizer tries to get the highest score possible while the minimizer tries to do the opposite and get the lowest score possible.\n",
    "\n",
    "Every board state has a value associated with it. In a given state if the maximizer has upper hand then, the score of the board will tend to be some positive value. If the minimizer has the upper hand in that board state then it will tend to be some negative value. The values of the board are calculated by some heuristics which are unique for every type of game.\n",
    "\n",
    "![tree](assets/minimax-algorithm.png)\n",
    "\n",
    "_[refernce, GeeksforGeeks](https://www.geeksforgeeks.org/minimax-algorithm-in-game-theory-set-1-introduction/)_  \n",
    "\n",
    "The number of possible sequences are the facorial value and the amount of cells avaiable. The Tic Tac Toe starts with 9 avaible cells, after a cell is occupied, the amount of aviable cells decreases to 8, and so on. This means the first move have 9 different possibilities, after this all of theese 9 possibilities have 8 new possibilities and so on. \n",
    "\n",
    "#### Factorial\n",
    "\n",
    "In mathematics, the factorial of a positive integer $n$, denoted by $n!$, is the product of all positive integers less than or equal to $n$:\n",
    "\n",
    "_Formula_\n",
    "$$n! = \\underbrace{n\\times(n-1)\\times(n-2)\\times(n-3)\\cdot\\cdot\\cdot\\times(n-n+1)}_\\text{$n$ times}$$\n",
    "\n",
    "_Example_\n",
    "$$ 9! = 9\\times8\\times7\\times6\\times5\\times4\\times3\\times2\\times1$$\n",
    "$$ 9! = 362880$$\n",
    "\n",
    "_[reference, Wikipedia](https://en.wikipedia.org/wiki/Factorial)_\n",
    "\n",
    "#### Horizon effect\n",
    "The **horizon effect**, also known as the **horizon problem**, is a problem in artificial intelligence whereby, in many games, the number of possible states or positions is immense and computers can only feasibly search a small portion of them, typically a few plies down the game tree. Thus, for a computer searching only five plies, there is a possibility that it will make a detrimental move, but the effect is not visible because the computer does not search to the depth of the error _(i.e., beyond its \"horizon\")_.\n",
    "\n",
    "When evaluating a large game tree using techniques such as minimax with alpha-beta pruning, search depth is limited for feasibility reasons. However, evaluating a partial tree may give a misleading result. When a significant change exists just over the horizon of the search depth, the computational device falls victim to the horizon effect.\n",
    "\n",
    "_[reference, Wikipedia](https://en.wikipedia.org/wiki/Horizon_effect)_\n",
    "\n",
    "### Node Tree\n",
    "In computer science, a tree is a widely used abstract data type (ADT) that simulates a hierarchical tree structure, with a root value and subtrees of children with a parent node, represented as a set of linked nodes.\n",
    "\n",
    "A tree data structure can be defined recursively as a collection of nodes (starting at a root node), where each node is a data structure consisting of a value, together with a list of references to nodes (the \"children\"), with the constraints that no reference is duplicated, and none points to the root.\n",
    "\n",
    "A tree is a nonlinear data structure, compared to arrays, linked lists, stacks and queues which are linear data structures. A tree can be empty with no nodes or a tree is a structure consisting of one node called the root and zero or one or more subtrees.\n",
    "\n",
    "![node-tree](assets/node-tree.png)\n",
    "\n",
    "**Node**  \n",
    "A node is a structure which may contain a value or condition, or represent a separate data structure.\n",
    "\n",
    "**Root**  \n",
    "The top node in a tree, the prime ancestor.\n",
    "\n",
    "**Child**  \n",
    "A node directly connected to another node when moving away from the root, an immediate descendant.\n",
    "\n",
    "**Parent**  \n",
    "The converse notion of a child, an immediate ancestor.\n",
    "\n",
    "**Siblings**  \n",
    "A group of nodes with the same parent.\n",
    "\n",
    "**Descendant**  \n",
    "A node reachable by repeated proceeding from parent to child. Also known as subchild.\n",
    "\n",
    "**Ancestor**  \n",
    "A node reachable by repeated proceeding from child to parent.\n",
    "\n",
    "**Edge**  \n",
    "The connection between one node and another.\n",
    "\n",
    "**Leaf, Terminal State**  \n",
    "A node with no children. \n",
    "\n",
    "**Depth**  \n",
    "The distance between a node and the root.\n",
    "\n",
    "**Sub Tree**  \n",
    "A tree T is a tree consisting of a node in T and all of its descendants in T.\n",
    "\n",
    "_[reference, Terminology used in trees](https://en.wikipedia.org/wiki/Tree_(data_structure)#Terminology_used_in_trees)_  \n",
    "_[reference, Wikipedia](https://en.wikipedia.org/wiki/Tree_(data_structure))_\n",
    "\n",
    "---\n",
    "### Alpha-Beta Pruning\n",
    "Alpha-Beta pruning is not actually a new algorithm, rather an optimization technique for minimax algorithm. It reduces the computation time by a huge factor. This allows us to search much faster and even go into deeper levels in the game tree. It cuts off branches in the game tree which need not be searched because there already exists a better move available. It is called Alpha-Beta pruning because it passes 2 extra parameters in the minimax function, namely alpha and beta.\n",
    "\n",
    "Alpha is the best value that the **maximizer** currently can guarantee at that level or above.  \n",
    "Beta is the best value that the **minimizer** currently can guarantee at that level or above.\n",
    "\n",
    "The pruning happens for these cases:\n",
    "$$val ≥ β \\text{ in a Max node}$$\n",
    "$$val ≤ α \\text{ in a Min node}$$\n",
    "\n",
    "![alpha beta pruning](assets/alpha-beta-pruning.png)\n",
    "\n",
    "_[reference, GeeksforGeeks](https://www.geeksforgeeks.org/minimax-algorithm-in-game-theory-set-4-alpha-beta-pruning/)_"
   ]
  },
  {
   "cell_type": "markdown",
   "metadata": {},
   "source": [
    "## The Game\n",
    "\n",
    "### Prepare the Environment"
   ]
  },
  {
   "cell_type": "markdown",
   "metadata": {},
   "source": [
    "#### Global Constants"
   ]
  },
  {
   "cell_type": "code",
   "execution_count": 1,
   "metadata": {},
   "outputs": [],
   "source": [
    "import math\n",
    "\n",
    "EMPTY = '.'\n",
    "AI = 'X'\n",
    "HUMAN = 'O'\n",
    "SCORES = { 'X': 10, 'O': -10, '.': 0 }\n",
    "\n",
    "WINNING_CASES = [\n",
    "    [0, 1, 2],\n",
    "    [3, 4, 5],\n",
    "    [6, 7, 8],\n",
    "    [0, 3, 6],\n",
    "    [1, 4, 7],\n",
    "    [2, 5, 8],\n",
    "    [0, 4, 8],\n",
    "    [2, 4, 6]\n",
    "]\n",
    "\n",
    "WINNING_LITERALS = { \n",
    "    'X': 'The winner is the AI',\n",
    "    'O': 'The winner is the Human',\n",
    "    '.': 'The endded as a Tie',\n",
    "}"
   ]
  },
  {
   "cell_type": "markdown",
   "metadata": {},
   "source": [
    "### Defining the Functions\n",
    "#### `print_board`"
   ]
  },
  {
   "cell_type": "code",
   "execution_count": 2,
   "metadata": {},
   "outputs": [],
   "source": [
    "def print_board(board):\n",
    "    print(' '.join(board[:3]))\n",
    "    print(' '.join(board[3:6]))\n",
    "    print(' '.join(board[6:]), '\\n')"
   ]
  },
  {
   "cell_type": "markdown",
   "metadata": {},
   "source": [
    "#### `human_move`"
   ]
  },
  {
   "cell_type": "code",
   "execution_count": 3,
   "metadata": {},
   "outputs": [],
   "source": [
    "# places the input from the user and throw an exception if issues happens\n",
    "def human_move(board: list) -> list:\n",
    "    # validating user inputs\n",
    "    try:\n",
    "        row = int(input('enter row: '))\n",
    "        if row == 0: return None # escapes the program\n",
    "        column = int(input('enter column: '))\n",
    "        if column == 0: return None # escapes the program\n",
    "\n",
    "        index = 3 * (row - 1) + (column - 1)\n",
    "        \n",
    "        # sees if the cell is empty before updating the value\n",
    "        # throws exception if the index is out of bounds\n",
    "        if board[index] is EMPTY:\n",
    "            board[index] = HUMAN\n",
    "            return board\n",
    "        \n",
    "        # if the cell i occupied, new inputs are required\n",
    "        else:\n",
    "            print('\\n', 'cell occupied, try again', '\\n')\n",
    "            return human_move(board)\n",
    "    \n",
    "    # in case of exceptions the uses is informed, and new inputs are required\n",
    "    except:\n",
    "        print('\\n', 'invalid input, try again', '\\n')\n",
    "        return human_move(board)"
   ]
  },
  {
   "cell_type": "markdown",
   "metadata": {},
   "source": [
    "#### `ai_move`"
   ]
  },
  {
   "cell_type": "code",
   "execution_count": 4,
   "metadata": {},
   "outputs": [],
   "source": [
    "def ai_move(board: list) -> list:\n",
    "    bestScore = -100\n",
    "    move = None\n",
    "    \n",
    "    # iterates over the cells from the board\n",
    "    for position, _ in enumerate(board):\n",
    "        \n",
    "        # if the current cell is empty\n",
    "        if board[position] == EMPTY:\n",
    "            tmp_board = board.copy()\n",
    "            tmp_board[position] = AI\n",
    "            score = minimax(tmp_board, False, -math.inf, math.inf)\n",
    "            \n",
    "            # updates the best score, if the score is better than the current best score\n",
    "            # sets the best evaluated move to the new position\n",
    "            if score > bestScore:\n",
    "                bestScore = score\n",
    "                move = position\n",
    "    \n",
    "    # places the best move evaluated, and returns the updated board\n",
    "    board[move] = AI\n",
    "    return board"
   ]
  },
  {
   "cell_type": "markdown",
   "metadata": {},
   "source": [
    "#### `minimax`"
   ]
  },
  {
   "cell_type": "code",
   "execution_count": 5,
   "metadata": {},
   "outputs": [],
   "source": [
    "def minimax(board: list, maximizing: bool, alpha: int, beta: int) -> int:\n",
    "    result = check_winner(board)\n",
    "    \n",
    "    # terminal condition, and return the evaluated score\n",
    "    if result is not None: return SCORES[result]\n",
    "        \n",
    "    # sets the default score for maximizing or minimazing\n",
    "    best_score = -math.inf if maximizing else math.inf\n",
    "\n",
    "    # enumerates the board to get the index of the position\n",
    "    for position, _ in enumerate(board):\n",
    "        \n",
    "        # tries to access the position, and creates a new enity of board\n",
    "        # evaluates the score be recursivly calling itself, changing between maximizing and not maximizing (minimizing)\n",
    "        if board[position] == EMPTY:\n",
    "            tmp_board = board.copy()\n",
    "\n",
    "            if maximizing: \n",
    "                tmp_board[position] = AI\n",
    "                score = minimax(tmp_board, maximizing, alpha, beta) # recursivly calls\n",
    "                best_score = max(score, best_score)\n",
    "                alpha = max(alpha, score)\n",
    "            else:\n",
    "                tmp_board[position] = HUMAN\n",
    "                score = minimax(tmp_board, not maximizing, alpha, beta) # recursivly calls\n",
    "                best_score = min(score, best_score)\n",
    "                beta = min(beta, score)\n",
    "\n",
    "            # pruning by breaking the loop if the beta value is below the alpha value\n",
    "            if beta <= alpha: break\n",
    "                \n",
    "    return best_score"
   ]
  },
  {
   "cell_type": "markdown",
   "metadata": {},
   "source": [
    "#### `check_winner`"
   ]
  },
  {
   "cell_type": "code",
   "execution_count": 6,
   "metadata": {},
   "outputs": [],
   "source": [
    "def check_winner(board) -> str:\n",
    "    # iterating over the winning cases\n",
    "    for winning_case in WINNING_CASES:\n",
    "        if board[winning_case[0]] == board[winning_case[1]] == board[winning_case[2]] != EMPTY:\n",
    "            return board[winning_case[0]] # win-case\n",
    "    \n",
    "    # sees if the board still contains empty cells\n",
    "    if EMPTY in board: return None # not concluded\n",
    "    else: return EMPTY # draw-case"
   ]
  },
  {
   "cell_type": "markdown",
   "metadata": {},
   "source": [
    "#### `play`"
   ]
  },
  {
   "cell_type": "code",
   "execution_count": 7,
   "metadata": {},
   "outputs": [],
   "source": [
    "def play(human_starts: bool = False):\n",
    "    # initializing environment\n",
    "    board = [EMPTY] * 9\n",
    "    winner = None\n",
    "    AIs_turn = not human_starts\n",
    "    \n",
    "    print('game started, press 0 to quit')\n",
    "    \n",
    "    # ...\n",
    "    while EMPTY in board:\n",
    "        if AIs_turn: board = ai_move(board)\n",
    "        else: board = human_move(board)\n",
    "        \n",
    "        # quits the game\n",
    "        if board is None: break;\n",
    "\n",
    "        print_board(board)\n",
    "        \n",
    "        # sees if there is a winner, or all cells are occupied\n",
    "        winner = check_winner(board)\n",
    "        if winner: break\n",
    "        \n",
    "        # toggles AI turns\n",
    "        AIs_turn = not AIs_turn \n",
    "    \n",
    "    print('Game Concluded,', WINNING_LITERALS.get(winner, 'err occurred'))"
   ]
  },
  {
   "cell_type": "code",
   "execution_count": 11,
   "metadata": {},
   "outputs": [
    {
     "name": "stdout",
     "output_type": "stream",
     "text": [
      "game started, press 0 to quit\n",
      "X . .\n",
      ". . .\n",
      ". . . \n",
      "\n",
      "X . .\n",
      ". O .\n",
      ". . . \n",
      "\n",
      "X X .\n",
      ". O .\n",
      ". . . \n",
      "\n",
      "X X .\n",
      ". O .\n",
      ". . O \n",
      "\n",
      "X X X\n",
      ". O .\n",
      ". . O \n",
      "\n",
      "Game Concluded, The winner is the AI\n"
     ]
    }
   ],
   "source": [
    "play()"
   ]
  },
  {
   "cell_type": "markdown",
   "metadata": {},
   "source": [
    "### Game Analysis and Measurements"
   ]
  },
  {
   "cell_type": "markdown",
   "metadata": {},
   "source": [
    "#### `calculate_possibilities`"
   ]
  },
  {
   "cell_type": "code",
   "execution_count": 9,
   "metadata": {},
   "outputs": [],
   "source": [
    "def calculate_possibilities():\n",
    "    pass"
   ]
  },
  {
   "cell_type": "code",
   "execution_count": 10,
   "metadata": {},
   "outputs": [],
   "source": [
    "calculate_possibilities()"
   ]
  }
 ],
 "metadata": {
  "kernelspec": {
   "display_name": "Python 3",
   "language": "python",
   "name": "python3"
  },
  "language_info": {
   "codemirror_mode": {
    "name": "ipython",
    "version": 3
   },
   "file_extension": ".py",
   "mimetype": "text/x-python",
   "name": "python",
   "nbconvert_exporter": "python",
   "pygments_lexer": "ipython3",
   "version": "3.7.4"
  },
  "varInspector": {
   "cols": {
    "lenName": 16,
    "lenType": 16,
    "lenVar": 40
   },
   "kernels_config": {
    "python": {
     "delete_cmd_postfix": "",
     "delete_cmd_prefix": "del ",
     "library": "var_list.py",
     "varRefreshCmd": "print(var_dic_list())"
    },
    "r": {
     "delete_cmd_postfix": ") ",
     "delete_cmd_prefix": "rm(",
     "library": "var_list.r",
     "varRefreshCmd": "cat(var_dic_list()) "
    }
   },
   "types_to_exclude": [
    "module",
    "function",
    "builtin_function_or_method",
    "instance",
    "_Feature"
   ],
   "window_display": false
  }
 },
 "nbformat": 4,
 "nbformat_minor": 4
}
